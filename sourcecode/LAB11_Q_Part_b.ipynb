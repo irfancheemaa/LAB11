{
  "nbformat": 4,
  "nbformat_minor": 0,
  "metadata": {
    "colab": {
      "name": "LAB11_Q_Part_b.ipynb",
      "provenance": [],
      "collapsed_sections": []
    },
    "kernelspec": {
      "name": "python3",
      "display_name": "Python 3"
    },
    "language_info": {
      "name": "python"
    }
  },
  "cells": [
    {
      "cell_type": "code",
      "metadata": {
        "id": "uav_liR0z-L5"
      },
      "source": [
        "# Simple CNN model for CIFAR-10\n",
        "# Importing required packages/libraries \n",
        "import numpy as np\n",
        "\n",
        "from keras.datasets import cifar10\n",
        "from keras.models import Sequential\n",
        "from keras.layers import Dense\n",
        "from keras.layers import Dropout\n",
        "from keras.layers import Flatten\n",
        "from keras.constraints import maxnorm\n",
        "from keras.optimizers import SGD\n",
        "from keras.layers.convolutional import Conv2D\n",
        "from keras.layers.convolutional import MaxPooling2D\n",
        "from keras.utils import np_utils\n",
        "from keras import backend as K\n",
        "#K.set_image_data_format('channels_first')\n",
        "from keras.layers import Activation, Dense\n",
        "from keras.utils import to_categorical\n",
        "import matplotlib.pyplot as plt\n",
        "% matplotlib inline\n",
        "from matplotlib import*\n"
      ],
      "execution_count": 1,
      "outputs": []
    },
    {
      "cell_type": "code",
      "metadata": {
        "id": "dwbt0ytX0JLq",
        "colab": {
          "base_uri": "https://localhost:8080/"
        },
        "outputId": "94515dad-a870-4064-f608-daa97e80639e"
      },
      "source": [
        "# fix random seed for reproducibility\n",
        "seed = 7\n",
        "np.random.seed(seed)\n",
        "num_classes=10\n",
        "# load data\n",
        "(X_train, y_train), (X_test, y_test) = cifar10.load_data()\n",
        "# one hot encode ouputs\n",
        "y_train = to_categorical(y_train, num_classes)\n",
        "y_test = to_categorical(y_test, num_classes)\n",
        "# normalize inputs from 0-255 to 0.0-1.0\n",
        "X_train = X_train.astype('float32')\n",
        "X_test = X_test.astype('float32')\n",
        "X_train = X_train / 255.0\n",
        "X_test = X_test / 255.0\n"
      ],
      "execution_count": 2,
      "outputs": [
        {
          "output_type": "stream",
          "text": [
            "Downloading data from https://www.cs.toronto.edu/~kriz/cifar-10-python.tar.gz\n",
            "170500096/170498071 [==============================] - 2s 0us/step\n"
          ],
          "name": "stdout"
        }
      ]
    },
    {
      "cell_type": "code",
      "metadata": {
        "id": "XvwNgfWZ1Sem"
      },
      "source": [
        "# creating model\n",
        "model = Sequential()\n",
        "\n",
        "model.add(Conv2D(32, (3, 3), padding='same', activation='relu', input_shape=X_train.shape[1:]))\n",
        "model.add(Dropout(0.2))\n",
        "\n",
        "model.add(Conv2D(32,(3,3),padding='same', activation='relu'))\n",
        "model.add(MaxPooling2D(pool_size=(2,2)))\n",
        "\n",
        "model.add(Conv2D(64,(3,3),padding='same',activation='relu'))\n",
        "model.add(Dropout(0.2))\n",
        "\n",
        "model.add(Conv2D(64,(3,3),padding='same',activation='relu'))\n",
        "model.add(MaxPooling2D(pool_size=(2,2)))\n",
        "\n",
        "model.add(Conv2D(128,(3,3),padding='same',activation='relu'))\n",
        "model.add(Dropout(0.2))\n",
        "\n",
        "model.add(Conv2D(128,(3,3),padding='same',activation='relu'))\n",
        "model.add(MaxPooling2D(pool_size=(2,2)))\n",
        "\n",
        "model.add(Flatten())\n",
        "model.add(Dropout(0.2))\n",
        "\n",
        "model.add(Dense(1024,activation='relu',kernel_constraint=maxnorm(3)))\n",
        "model.add(Dropout(0.2))\n",
        "\n",
        "model.add(Dense(512,activation='relu',kernel_constraint=maxnorm(3)))\n",
        "model.add(Dropout(0.2))\n",
        "\n",
        "model.add(Dense(num_classes, activation='softmax'))"
      ],
      "execution_count": 3,
      "outputs": []
    },
    {
      "cell_type": "code",
      "metadata": {
        "id": "7q79paj42ljX"
      },
      "source": [
        "# compile model\n",
        "epochs = 25\n",
        "lrate = 0.01\n",
        "decay = lrate/epochs\n",
        "sgd = SGD(lr=lrate, momentum=0.9, decay=decay, nesterov=False)\n",
        "model.compile(loss='categorical_crossentropy', optimizer=sgd, metrics=['accuracy'])"
      ],
      "execution_count": 4,
      "outputs": []
    },
    {
      "cell_type": "code",
      "metadata": {
        "colab": {
          "base_uri": "https://localhost:8080/"
        },
        "id": "gaZsiXS33GdM",
        "outputId": "7a1ff736-d233-4f16-8d94-e2c77a178270"
      },
      "source": [
        "model.summary()"
      ],
      "execution_count": 5,
      "outputs": [
        {
          "output_type": "stream",
          "text": [
            "Model: \"sequential\"\n",
            "_________________________________________________________________\n",
            "Layer (type)                 Output Shape              Param #   \n",
            "=================================================================\n",
            "conv2d (Conv2D)              (None, 32, 32, 32)        896       \n",
            "_________________________________________________________________\n",
            "dropout (Dropout)            (None, 32, 32, 32)        0         \n",
            "_________________________________________________________________\n",
            "conv2d_1 (Conv2D)            (None, 32, 32, 32)        9248      \n",
            "_________________________________________________________________\n",
            "max_pooling2d (MaxPooling2D) (None, 16, 16, 32)        0         \n",
            "_________________________________________________________________\n",
            "conv2d_2 (Conv2D)            (None, 16, 16, 64)        18496     \n",
            "_________________________________________________________________\n",
            "dropout_1 (Dropout)          (None, 16, 16, 64)        0         \n",
            "_________________________________________________________________\n",
            "conv2d_3 (Conv2D)            (None, 16, 16, 64)        36928     \n",
            "_________________________________________________________________\n",
            "max_pooling2d_1 (MaxPooling2 (None, 8, 8, 64)          0         \n",
            "_________________________________________________________________\n",
            "conv2d_4 (Conv2D)            (None, 8, 8, 128)         73856     \n",
            "_________________________________________________________________\n",
            "dropout_2 (Dropout)          (None, 8, 8, 128)         0         \n",
            "_________________________________________________________________\n",
            "conv2d_5 (Conv2D)            (None, 8, 8, 128)         147584    \n",
            "_________________________________________________________________\n",
            "max_pooling2d_2 (MaxPooling2 (None, 4, 4, 128)         0         \n",
            "_________________________________________________________________\n",
            "flatten (Flatten)            (None, 2048)              0         \n",
            "_________________________________________________________________\n",
            "dropout_3 (Dropout)          (None, 2048)              0         \n",
            "_________________________________________________________________\n",
            "dense (Dense)                (None, 1024)              2098176   \n",
            "_________________________________________________________________\n",
            "dropout_4 (Dropout)          (None, 1024)              0         \n",
            "_________________________________________________________________\n",
            "dense_1 (Dense)              (None, 512)               524800    \n",
            "_________________________________________________________________\n",
            "dropout_5 (Dropout)          (None, 512)               0         \n",
            "_________________________________________________________________\n",
            "dense_2 (Dense)              (None, 10)                5130      \n",
            "=================================================================\n",
            "Total params: 2,915,114\n",
            "Trainable params: 2,915,114\n",
            "Non-trainable params: 0\n",
            "_________________________________________________________________\n"
          ],
          "name": "stdout"
        }
      ]
    },
    {
      "cell_type": "code",
      "metadata": {
        "id": "tr_Ccuw83Kib",
        "colab": {
          "base_uri": "https://localhost:8080/"
        },
        "outputId": "2f092591-6f2c-4fd7-ec1c-dc8b706a7ab8"
      },
      "source": [
        "# Fitting the model\n",
        "history = model.fit(X_train, y_train, batch_size=32, epochs=epochs, validation_split=0.2, shuffle=True)\n",
        "scores = model.evaluate(X_test, y_test, verbose=1)\n",
        "model.save('./model'+'.h5')\n",
        "\n",
        "print(\"Test loss: \", scores[0])\n",
        "print(\"Test accuracy: \", scores[1])"
      ],
      "execution_count": 6,
      "outputs": [
        {
          "output_type": "stream",
          "text": [
            "Epoch 1/25\n",
            "1250/1250 [==============================] - 332s 265ms/step - loss: 2.1410 - accuracy: 0.1889 - val_loss: 1.6352 - val_accuracy: 0.4050\n",
            "Epoch 2/25\n",
            "1250/1250 [==============================] - 330s 264ms/step - loss: 1.5936 - accuracy: 0.4167 - val_loss: 1.5905 - val_accuracy: 0.4334\n",
            "Epoch 3/25\n",
            "1250/1250 [==============================] - 331s 264ms/step - loss: 1.3866 - accuracy: 0.4928 - val_loss: 1.4200 - val_accuracy: 0.5045\n",
            "Epoch 4/25\n",
            "1250/1250 [==============================] - 329s 263ms/step - loss: 1.2503 - accuracy: 0.5505 - val_loss: 1.1318 - val_accuracy: 0.5992\n",
            "Epoch 5/25\n",
            "1250/1250 [==============================] - 329s 263ms/step - loss: 1.1336 - accuracy: 0.5939 - val_loss: 1.0393 - val_accuracy: 0.6306\n",
            "Epoch 6/25\n",
            "1250/1250 [==============================] - 328s 263ms/step - loss: 1.0293 - accuracy: 0.6299 - val_loss: 0.9818 - val_accuracy: 0.6559\n",
            "Epoch 7/25\n",
            "1250/1250 [==============================] - 329s 263ms/step - loss: 0.9446 - accuracy: 0.6670 - val_loss: 0.9091 - val_accuracy: 0.6830\n",
            "Epoch 8/25\n",
            "1250/1250 [==============================] - 330s 264ms/step - loss: 0.8667 - accuracy: 0.6931 - val_loss: 0.8702 - val_accuracy: 0.6950\n",
            "Epoch 9/25\n",
            "1250/1250 [==============================] - 330s 264ms/step - loss: 0.8066 - accuracy: 0.7178 - val_loss: 0.8147 - val_accuracy: 0.7175\n",
            "Epoch 10/25\n",
            "1250/1250 [==============================] - 331s 265ms/step - loss: 0.7573 - accuracy: 0.7303 - val_loss: 0.8127 - val_accuracy: 0.7174\n",
            "Epoch 11/25\n",
            "1250/1250 [==============================] - 331s 265ms/step - loss: 0.7055 - accuracy: 0.7484 - val_loss: 0.7467 - val_accuracy: 0.7378\n",
            "Epoch 12/25\n",
            "1250/1250 [==============================] - 331s 265ms/step - loss: 0.6804 - accuracy: 0.7539 - val_loss: 0.7270 - val_accuracy: 0.7495\n",
            "Epoch 13/25\n",
            "1250/1250 [==============================] - 331s 265ms/step - loss: 0.6421 - accuracy: 0.7733 - val_loss: 0.7426 - val_accuracy: 0.7455\n",
            "Epoch 14/25\n",
            "1250/1250 [==============================] - 331s 264ms/step - loss: 0.5999 - accuracy: 0.7851 - val_loss: 0.7042 - val_accuracy: 0.7580\n",
            "Epoch 15/25\n",
            "1250/1250 [==============================] - 331s 265ms/step - loss: 0.5747 - accuracy: 0.7947 - val_loss: 0.7158 - val_accuracy: 0.7609\n",
            "Epoch 16/25\n",
            "1250/1250 [==============================] - 331s 265ms/step - loss: 0.5510 - accuracy: 0.8050 - val_loss: 0.7090 - val_accuracy: 0.7585\n",
            "Epoch 17/25\n",
            "1250/1250 [==============================] - 331s 265ms/step - loss: 0.5322 - accuracy: 0.8085 - val_loss: 0.6782 - val_accuracy: 0.7742\n",
            "Epoch 18/25\n",
            "1250/1250 [==============================] - 331s 265ms/step - loss: 0.4981 - accuracy: 0.8211 - val_loss: 0.6828 - val_accuracy: 0.7703\n",
            "Epoch 19/25\n",
            "1250/1250 [==============================] - 331s 265ms/step - loss: 0.4792 - accuracy: 0.8301 - val_loss: 0.6796 - val_accuracy: 0.7739\n",
            "Epoch 20/25\n",
            "1250/1250 [==============================] - 331s 264ms/step - loss: 0.4609 - accuracy: 0.8340 - val_loss: 0.6698 - val_accuracy: 0.7812\n",
            "Epoch 21/25\n",
            "1250/1250 [==============================] - 331s 265ms/step - loss: 0.4440 - accuracy: 0.8429 - val_loss: 0.6739 - val_accuracy: 0.7756\n",
            "Epoch 22/25\n",
            "1250/1250 [==============================] - 331s 265ms/step - loss: 0.4293 - accuracy: 0.8457 - val_loss: 0.6667 - val_accuracy: 0.7806\n",
            "Epoch 23/25\n",
            "1250/1250 [==============================] - 330s 264ms/step - loss: 0.4026 - accuracy: 0.8565 - val_loss: 0.6940 - val_accuracy: 0.7763\n",
            "Epoch 24/25\n",
            "1250/1250 [==============================] - 331s 265ms/step - loss: 0.3876 - accuracy: 0.8580 - val_loss: 0.6673 - val_accuracy: 0.7803\n",
            "Epoch 25/25\n",
            "1250/1250 [==============================] - 331s 265ms/step - loss: 0.3734 - accuracy: 0.8650 - val_loss: 0.6714 - val_accuracy: 0.7844\n",
            "313/313 [==============================] - 18s 58ms/step - loss: 0.6970 - accuracy: 0.7690\n",
            "Test loss:  0.6969940066337585\n",
            "Test accuracy:  0.7689999938011169\n"
          ],
          "name": "stdout"
        }
      ]
    },
    {
      "cell_type": "code",
      "metadata": {
        "colab": {
          "base_uri": "https://localhost:8080/",
          "height": 295
        },
        "id": "tcQ9KtaYo7_7",
        "outputId": "91e895f3-8ef5-473b-d70d-a0b98ab52c20"
      },
      "source": [
        "plt.figure()\n",
        "plt.plot(history.history['accuracy'], label = 'Train')\n",
        "plt.plot(history.history['val_accuracy'], label = 'Test')\n",
        "plt.title('Accuracy')\n",
        "plt.ylabel(\"% accuracy\")\n",
        "plt.xlabel('# of epochs')\n",
        "plt.legend()\n",
        "plt.show()"
      ],
      "execution_count": 11,
      "outputs": [
        {
          "output_type": "display_data",
          "data": {
            "image/png": "[encoded data removed]",
            "text/plain": [
              "<Figure size 432x288 with 1 Axes>"
            ]
          },
          "metadata": {
            "tags": [],
            "needs_background": "light"
          }
        }
      ]
    },
    {
      "cell_type": "code",
      "metadata": {
        "colab": {
          "base_uri": "https://localhost:8080/",
          "height": 295
        },
        "id": "whKTocIXvoqV",
        "outputId": "c289f024-732f-439e-e734-25445b1b88c1"
      },
      "source": [
        "plt.plot(history.history['loss'])\n",
        "plt.plot(history.history['val_loss'])\n",
        "plt.title('loss')\n",
        "plt.ylabel('Loss')\n",
        "plt.xlabel('Epoch')\n",
        "plt.legend(['Train', 'Val'], loc='upper right')\n",
        "plt.show()"
      ],
      "execution_count": 12,
      "outputs": [
        {
          "output_type": "display_data",
          "data": {
            "image/png": "[encoded data removed]",
            "text/plain": [
              "<Figure size 432x288 with 1 Axes>"
            ]
          },
          "metadata": {
            "tags": [],
            "needs_background": "light"
          }
        }
      ]
    },
    {
      "cell_type": "code",
      "metadata": {
        "id": "v4dcbCUZm496"
      },
      "source": [
        "classification = ['airplane', 'automobile', 'bird', 'cat', 'deer', \n",
        "                  'dog', 'frog', 'horse', 'ship', 'truck']\n",
        "classes = [0, 1, 2, 3, 4, 5, 6, 7, 8, 9]\n",
        "\n",
        "data = dict (zip(classes, classification))"
      ],
      "execution_count": 13,
      "outputs": []
    },
    {
      "cell_type": "code",
      "metadata": {
        "colab": {
          "base_uri": "https://localhost:8080/"
        },
        "id": "wZ2eEsxNndIF",
        "outputId": "4dbebb32-a745-42ac-87f5-c92ba029cf23"
      },
      "source": [
        "image_test = []\n",
        "for i in range(4):\n",
        "  image_test = X_test[i]\n",
        "  test = image_test.reshape(1,32,32,3)\n",
        "  predict_img = np.argmax(model.predict(test), axis=-1)[0]\n",
        "  print(\"Image Class: \", data[y_test[i][0]], '\\n', \"Predicted: \", data[predict_img])"
      ],
      "execution_count": 21,
      "outputs": [
        {
          "output_type": "stream",
          "text": [
            "Image Class:  airplane \n",
            " Predicted:  cat\n",
            "Image Class:  airplane \n",
            " Predicted:  ship\n",
            "Image Class:  airplane \n",
            " Predicted:  ship\n",
            "Image Class:  automobile \n",
            " Predicted:  airplane\n"
          ],
          "name": "stdout"
        }
      ]
    }
  ]
}