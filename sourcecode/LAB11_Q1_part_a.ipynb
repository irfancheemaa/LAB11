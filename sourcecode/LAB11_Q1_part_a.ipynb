{
  "nbformat": 4,
  "nbformat_minor": 0,
  "metadata": {
    "colab": {
      "name": "LAB11_Q1_part_a.ipynb",
      "provenance": [],
      "collapsed_sections": []
    },
    "kernelspec": {
      "name": "python3",
      "display_name": "Python 3"
    },
    "language_info": {
      "name": "python"
    }
  },
  "cells": [
    {
      "cell_type": "code",
      "metadata": {
        "id": "uav_liR0z-L5"
      },
      "source": [
        "# Simple CNN model for CIFAR-10\n",
        "# Importing required packages/libraries \n",
        "import numpy as np\n",
        "\n",
        "from keras.datasets import cifar10\n",
        "from keras.models import Sequential\n",
        "from keras.layers import Dense\n",
        "from keras.layers import Dropout\n",
        "from keras.layers import Flatten\n",
        "from keras.constraints import maxnorm\n",
        "from keras.optimizers import SGD\n",
        "from keras.layers.convolutional import Conv2D\n",
        "from keras.layers.convolutional import MaxPooling2D\n",
        "from keras.utils import np_utils\n",
        "from keras import backend as K\n",
        "#K.set_image_data_format('channels_first')\n",
        "from keras.layers import Activation, Dense\n",
        "from keras.utils import to_categorical"
      ],
      "execution_count": 5,
      "outputs": []
    },
    {
      "cell_type": "code",
      "metadata": {
        "id": "dwbt0ytX0JLq",
        "colab": {
          "base_uri": "https://localhost:8080/"
        },
        "outputId": "40aa5d96-8745-4908-bf0b-12146ed7f5b1"
      },
      "source": [
        "# fix random seed for reproducibility\n",
        "seed = 7\n",
        "np.random.seed(seed)\n",
        "num_classes=10\n",
        "# load data\n",
        "(X_train, y_train), (X_test, y_test) = cifar10.load_data()\n",
        "# one hot encode ouputs\n",
        "y_train = to_categorical(y_train, num_classes)\n",
        "y_test = to_categorical(y_test, num_classes)\n",
        "# normalize inputs from 0-255 to 0.0-1.0\n",
        "X_train = X_train.astype('float32')\n",
        "X_test = X_test.astype('float32')\n",
        "X_train = X_train / 255.0\n",
        "X_test = X_test / 255.0\n"
      ],
      "execution_count": 6,
      "outputs": [
        {
          "output_type": "stream",
          "text": [
            "Downloading data from https://www.cs.toronto.edu/~kriz/cifar-10-python.tar.gz\n",
            "170500096/170498071 [==============================] - 2s 0us/step\n"
          ],
          "name": "stdout"
        }
      ]
    },
    {
      "cell_type": "code",
      "metadata": {
        "id": "PoaRK07p41v5",
        "colab": {
          "base_uri": "https://localhost:8080/"
        },
        "outputId": "0fa7d60b-4d9a-44c0-8a33-909f495d8027"
      },
      "source": [
        "X_train.shape, y_train.shape"
      ],
      "execution_count": 7,
      "outputs": [
        {
          "output_type": "execute_result",
          "data": {
            "text/plain": [
              "((50000, 32, 32, 3), (50000, 10))"
            ]
          },
          "metadata": {
            "tags": []
          },
          "execution_count": 7
        }
      ]
    },
    {
      "cell_type": "code",
      "metadata": {
        "colab": {
          "base_uri": "https://localhost:8080/"
        },
        "id": "-GKXrcCk-p7m",
        "outputId": "b9802c51-f87b-48b6-af6d-6273e7d86419"
      },
      "source": [
        "X_train.shape"
      ],
      "execution_count": 8,
      "outputs": [
        {
          "output_type": "execute_result",
          "data": {
            "text/plain": [
              "(50000, 32, 32, 3)"
            ]
          },
          "metadata": {
            "tags": []
          },
          "execution_count": 8
        }
      ]
    },
    {
      "cell_type": "code",
      "metadata": {
        "id": "XvwNgfWZ1Sem"
      },
      "source": [
        "# creating model\n",
        "model = Sequential()\n",
        "model.add(Conv2D(32, (3,3), padding='same', input_shape=X_train.shape[1:], activation='relu'))\n",
        "model.add(MaxPooling2D(pool_size=(2,2)))\n",
        "model.add(Dropout(0.3))\n",
        "model.add(Flatten())\n",
        "model.add(Dense(80))\n",
        "model.add(Activation('relu'))\n",
        "model.add(Dense(num_classes))\n",
        "model.add(Activation('softmax'))"
      ],
      "execution_count": 9,
      "outputs": []
    },
    {
      "cell_type": "code",
      "metadata": {
        "id": "7q79paj42ljX"
      },
      "source": [
        "# compile model\n",
        "epochs = 25\n",
        "lrate = 0.01\n",
        "decay = lrate/epochs\n",
        "sgd = SGD(lr=lrate, momentum=0.9, decay=decay, nesterov=False)\n",
        "model.compile(loss='categorical_crossentropy', optimizer=sgd, metrics=['accuracy'])"
      ],
      "execution_count": 10,
      "outputs": []
    },
    {
      "cell_type": "code",
      "metadata": {
        "colab": {
          "base_uri": "https://localhost:8080/"
        },
        "id": "gaZsiXS33GdM",
        "outputId": "9aec2d0a-eeae-418f-9d47-25c2e68d3db8"
      },
      "source": [
        "model.summary()"
      ],
      "execution_count": 11,
      "outputs": [
        {
          "output_type": "stream",
          "text": [
            "Model: \"sequential\"\n",
            "_________________________________________________________________\n",
            "Layer (type)                 Output Shape              Param #   \n",
            "=================================================================\n",
            "conv2d (Conv2D)              (None, 32, 32, 32)        896       \n",
            "_________________________________________________________________\n",
            "max_pooling2d (MaxPooling2D) (None, 16, 16, 32)        0         \n",
            "_________________________________________________________________\n",
            "dropout (Dropout)            (None, 16, 16, 32)        0         \n",
            "_________________________________________________________________\n",
            "flatten (Flatten)            (None, 8192)              0         \n",
            "_________________________________________________________________\n",
            "dense (Dense)                (None, 80)                655440    \n",
            "_________________________________________________________________\n",
            "activation (Activation)      (None, 80)                0         \n",
            "_________________________________________________________________\n",
            "dense_1 (Dense)              (None, 10)                810       \n",
            "_________________________________________________________________\n",
            "activation_1 (Activation)    (None, 10)                0         \n",
            "=================================================================\n",
            "Total params: 657,146\n",
            "Trainable params: 657,146\n",
            "Non-trainable params: 0\n",
            "_________________________________________________________________\n"
          ],
          "name": "stdout"
        }
      ]
    },
    {
      "cell_type": "code",
      "metadata": {
        "colab": {
          "base_uri": "https://localhost:8080/"
        },
        "id": "tr_Ccuw83Kib",
        "outputId": "32d5f559-554f-4bf1-95e1-14cb59058220"
      },
      "source": [
        "# Fitting the model\n",
        "history = model.fit(X_train, y_train, batch_size=32, epochs=epochs, validation_split=0.2, shuffle=True)\n",
        "scores = model.evaluate(X_test, y_test, verbose=1)\n",
        "model.save('./model'+'.h5')\n",
        "print(\"Test loss: \", scores[0])\n",
        "print(\"Test accuracy: \", scores[1])"
      ],
      "execution_count": 12,
      "outputs": [
        {
          "output_type": "stream",
          "text": [
            "Epoch 1/25\n",
            "1250/1250 [==============================] - 40s 32ms/step - loss: 1.8462 - accuracy: 0.3254 - val_loss: 1.4087 - val_accuracy: 0.5028\n",
            "Epoch 2/25\n",
            "1250/1250 [==============================] - 39s 31ms/step - loss: 1.3217 - accuracy: 0.5235 - val_loss: 1.2437 - val_accuracy: 0.5640\n",
            "Epoch 3/25\n",
            "1250/1250 [==============================] - 39s 31ms/step - loss: 1.1899 - accuracy: 0.5782 - val_loss: 1.1770 - val_accuracy: 0.5865\n",
            "Epoch 4/25\n",
            "1250/1250 [==============================] - 39s 31ms/step - loss: 1.0866 - accuracy: 0.6089 - val_loss: 1.1730 - val_accuracy: 0.5855\n",
            "Epoch 5/25\n",
            "1250/1250 [==============================] - 39s 31ms/step - loss: 1.0319 - accuracy: 0.6337 - val_loss: 1.1020 - val_accuracy: 0.6116\n",
            "Epoch 6/25\n",
            "1250/1250 [==============================] - 39s 31ms/step - loss: 0.9651 - accuracy: 0.6563 - val_loss: 1.0866 - val_accuracy: 0.6217\n",
            "Epoch 7/25\n",
            "1250/1250 [==============================] - 39s 32ms/step - loss: 0.9178 - accuracy: 0.6774 - val_loss: 1.0745 - val_accuracy: 0.6283\n",
            "Epoch 8/25\n",
            "1250/1250 [==============================] - 40s 32ms/step - loss: 0.8679 - accuracy: 0.6916 - val_loss: 1.0627 - val_accuracy: 0.6331\n",
            "Epoch 9/25\n",
            "1250/1250 [==============================] - 39s 31ms/step - loss: 0.8397 - accuracy: 0.7045 - val_loss: 1.0355 - val_accuracy: 0.6408\n",
            "Epoch 10/25\n",
            "1250/1250 [==============================] - 39s 31ms/step - loss: 0.7991 - accuracy: 0.7172 - val_loss: 1.0443 - val_accuracy: 0.6389\n",
            "Epoch 11/25\n",
            "1250/1250 [==============================] - 39s 31ms/step - loss: 0.7662 - accuracy: 0.7286 - val_loss: 1.0330 - val_accuracy: 0.6475\n",
            "Epoch 12/25\n",
            "1250/1250 [==============================] - 40s 32ms/step - loss: 0.7554 - accuracy: 0.7336 - val_loss: 1.0240 - val_accuracy: 0.6521\n",
            "Epoch 13/25\n",
            "1250/1250 [==============================] - 40s 32ms/step - loss: 0.7207 - accuracy: 0.7474 - val_loss: 1.0493 - val_accuracy: 0.6454\n",
            "Epoch 14/25\n",
            "1250/1250 [==============================] - 39s 32ms/step - loss: 0.6972 - accuracy: 0.7537 - val_loss: 1.0259 - val_accuracy: 0.6525\n",
            "Epoch 15/25\n",
            "1250/1250 [==============================] - 39s 32ms/step - loss: 0.6749 - accuracy: 0.7640 - val_loss: 1.0217 - val_accuracy: 0.6528\n",
            "Epoch 16/25\n",
            "1250/1250 [==============================] - 39s 31ms/step - loss: 0.6566 - accuracy: 0.7708 - val_loss: 1.0508 - val_accuracy: 0.6482\n",
            "Epoch 17/25\n",
            "1250/1250 [==============================] - 39s 31ms/step - loss: 0.6367 - accuracy: 0.7794 - val_loss: 1.0224 - val_accuracy: 0.6569\n",
            "Epoch 18/25\n",
            "1250/1250 [==============================] - 39s 31ms/step - loss: 0.6136 - accuracy: 0.7835 - val_loss: 1.0362 - val_accuracy: 0.6517\n",
            "Epoch 19/25\n",
            "1250/1250 [==============================] - 39s 32ms/step - loss: 0.6053 - accuracy: 0.7858 - val_loss: 1.0298 - val_accuracy: 0.6587\n",
            "Epoch 20/25\n",
            "1250/1250 [==============================] - 39s 31ms/step - loss: 0.5897 - accuracy: 0.7933 - val_loss: 1.0419 - val_accuracy: 0.6610\n",
            "Epoch 21/25\n",
            "1250/1250 [==============================] - 39s 32ms/step - loss: 0.5712 - accuracy: 0.8002 - val_loss: 1.0471 - val_accuracy: 0.6582\n",
            "Epoch 22/25\n",
            "1250/1250 [==============================] - 39s 32ms/step - loss: 0.5672 - accuracy: 0.8008 - val_loss: 1.0456 - val_accuracy: 0.6605\n",
            "Epoch 23/25\n",
            "1250/1250 [==============================] - 39s 31ms/step - loss: 0.5414 - accuracy: 0.8114 - val_loss: 1.0434 - val_accuracy: 0.6598\n",
            "Epoch 24/25\n",
            "1250/1250 [==============================] - 40s 32ms/step - loss: 0.5391 - accuracy: 0.8120 - val_loss: 1.0512 - val_accuracy: 0.6632\n",
            "Epoch 25/25\n",
            "1250/1250 [==============================] - 39s 32ms/step - loss: 0.5214 - accuracy: 0.8183 - val_loss: 1.0671 - val_accuracy: 0.6580\n",
            "313/313 [==============================] - 3s 10ms/step - loss: 1.0771 - accuracy: 0.6462\n",
            "Test loss:  1.0771080255508423\n",
            "Test accuracy:  0.6462000012397766\n"
          ],
          "name": "stdout"
        }
      ]
    },
    {
      "cell_type": "code",
      "metadata": {
        "id": "gKCFqj4zm-uk"
      },
      "source": [
        "import matplotlib.pyplot as plt\n",
        "% matplotlib inline\n",
        "from matplotlib import*\n",
        "\n"
      ],
      "execution_count": 13,
      "outputs": []
    },
    {
      "cell_type": "code",
      "metadata": {
        "colab": {
          "base_uri": "https://localhost:8080/",
          "height": 295
        },
        "id": "tcQ9KtaYo7_7",
        "outputId": "5305e9ae-4a07-41ba-f460-f8ad9057d15b"
      },
      "source": [
        "plt.figure()\n",
        "plt.plot(history.history['accuracy'], label = 'Train')\n",
        "plt.plot(history.history['val_accuracy'], label = 'Test')\n",
        "plt.title('Accuracy')\n",
        "plt.ylabel(\"% accuracy\")\n",
        "plt.xlabel('# of epochs')\n",
        "plt.legend()\n",
        "plt.show()"
      ],
      "execution_count": 18,
      "outputs": [
        {
          "output_type": "display_data",
          "data": {
            "image/png": "[encoded data removed]",
            "text/plain": [
              "<Figure size 432x288 with 1 Axes>"
            ]
          },
          "metadata": {
            "tags": [],
            "needs_background": "light"
          }
        }
      ]
    },
    {
      "cell_type": "code",
      "metadata": {
        "colab": {
          "base_uri": "https://localhost:8080/",
          "height": 295
        },
        "id": "whKTocIXvoqV",
        "outputId": "0ea25c6a-3fa4-4df2-ad19-ffe4bef3cd6d"
      },
      "source": [
        "plt.plot(history.history['loss'])\n",
        "plt.plot(history.history['val_loss'])\n",
        "plt.title('loss')\n",
        "plt.ylabel('Loss')\n",
        "plt.xlabel('Epoch')\n",
        "plt.legend(['Train', 'Val'], loc='upper right')\n",
        "plt.show()"
      ],
      "execution_count": 19,
      "outputs": [
        {
          "output_type": "display_data",
          "data": {
            "image/png": "[encoded data removed]",
            "text/plain": [
              "<Figure size 432x288 with 1 Axes>"
            ]
          },
          "metadata": {
            "tags": [],
            "needs_background": "light"
          }
        }
      ]
    },
    {
      "cell_type": "code",
      "metadata": {
        "id": "v4dcbCUZm496"
      },
      "source": [
        "classification = ['airplane', 'automobile', 'bird', 'cat', 'deer', \n",
        "                  'dog', 'frog', 'horse', 'ship', 'truck']\n",
        "classes = [0, 1, 2, 3, 4, 5, 6, 7, 8, 9]\n",
        "\n",
        "data = dict (zip(classes, classification))"
      ],
      "execution_count": 20,
      "outputs": []
    },
    {
      "cell_type": "code",
      "metadata": {
        "colab": {
          "base_uri": "https://localhost:8080/"
        },
        "id": "wZ2eEsxNndIF",
        "outputId": "3a0394be-e070-42f6-a31b-5763f6b629b0"
      },
      "source": [
        "image_test = []\n",
        "for i in range(5):\n",
        "  image_test = X_test[i]\n",
        "  test = image_test.reshape(1,32,32,3)\n",
        "  predict_img = np.argmax(model.predict(test), axis=-1)[0]\n",
        "  print(\"Image Class: \", data[y_test[i][0]], '\\n', \"Predicted: \", data[predict_img])"
      ],
      "execution_count": 21,
      "outputs": [
        {
          "output_type": "stream",
          "text": [
            "Image Class:  airplane \n",
            " Predicted:  cat\n",
            "Image Class:  airplane \n",
            " Predicted:  ship\n",
            "Image Class:  airplane \n",
            " Predicted:  airplane\n",
            "Image Class:  automobile \n",
            " Predicted:  airplane\n",
            "Image Class:  airplane \n",
            " Predicted:  deer\n"
          ],
          "name": "stdout"
        }
      ]
    }
  ]
}